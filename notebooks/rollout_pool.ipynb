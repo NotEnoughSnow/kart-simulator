{
 "cells": [
  {
   "cell_type": "code",
   "execution_count": 31,
   "metadata": {},
   "outputs": [],
   "source": [
    "import multiprocessing\n",
    "import time\n",
    "import os"
   ]
  },
  {
   "cell_type": "code",
   "execution_count": 32,
   "metadata": {},
   "outputs": [],
   "source": [
    "def worker(num):\n",
    "    \"\"\"Thread worker function\"\"\"\n",
    "    print(f'Worker: {num}')\n",
    "    time.sleep(2)  # Simulate work\n",
    "    print(\"job's done \", num)\n",
    "    return f'Finished: {num}'"
   ]
  },
  {
   "cell_type": "code",
   "execution_count": 33,
   "metadata": {},
   "outputs": [],
   "source": [
    "def worker_2(num):\n",
    "    \"\"\"Worker function to print process info.\"\"\"\n",
    "    \n",
    "    time.sleep(2)  # Simulate work\n",
    "    print(f'Worker {num} is running in process {os.getpid()}')\n",
    "    return f'Worker {num} completed.'"
   ]
  },
  {
   "cell_type": "code",
   "execution_count": 27,
   "metadata": {},
   "outputs": [
    {
     "name": "stdout",
     "output_type": "stream",
     "text": [
      "Worker 0 is running in process 5860\n"
     ]
    },
    {
     "data": {
      "text/plain": [
       "'Worker 0 completed.'"
      ]
     },
     "execution_count": 27,
     "metadata": {},
     "output_type": "execute_result"
    }
   ],
   "source": [
    "worker_2(0)"
   ]
  },
  {
   "cell_type": "code",
   "execution_count": 14,
   "metadata": {},
   "outputs": [
    {
     "name": "stdout",
     "output_type": "stream",
     "text": [
      "All processes finished.\n"
     ]
    }
   ],
   "source": [
    "processes = []\n",
    "for i in range(4):  # Create 4 processes\n",
    "    p = multiprocessing.Process(target=worker, args=(i,))\n",
    "    processes.append(p)\n",
    "    p.start()\n",
    "\n",
    "for p in processes:\n",
    "    p.join()  # Ensure all processes finish before continuing\n",
    "print('All processes finished.')"
   ]
  },
  {
   "cell_type": "code",
   "execution_count": 34,
   "metadata": {},
   "outputs": [
    {
     "name": "stdout",
     "output_type": "stream",
     "text": [
      "Main process ID: 5860\n",
      "Started process 19916\n",
      "Started process 21716\n",
      "Started process 18760\n",
      "Started process 16288\n",
      "Process 19916 has finished.\n",
      "Process 21716 has finished.\n",
      "Process 18760 has finished.\n",
      "Process 16288 has finished.\n",
      "All workers are done.\n"
     ]
    }
   ],
   "source": [
    "print(f\"Main process ID: {os.getpid()}\")  # Shows the main process ID\n",
    "\n",
    "processes = []\n",
    "for i in range(4):  # Creating 4 processes\n",
    "    p = multiprocessing.Process(target=worker, args=(i,))\n",
    "    processes.append(p)\n",
    "    p.start()  # Start each process\n",
    "    print(f'Started process {p.pid}')  # Print each process ID\n",
    "\n",
    "for p in processes:\n",
    "    p.join()  # Ensure all processes finish before continuing\n",
    "    print(f'Process {p.pid} has finished.')  # Confirm process has finished\n",
    "\n",
    "print('All workers are done.')"
   ]
  }
 ],
 "metadata": {
  "kernelspec": {
   "display_name": "venv",
   "language": "python",
   "name": "python3"
  },
  "language_info": {
   "codemirror_mode": {
    "name": "ipython",
    "version": 3
   },
   "file_extension": ".py",
   "mimetype": "text/x-python",
   "name": "python",
   "nbconvert_exporter": "python",
   "pygments_lexer": "ipython3",
   "version": "3.11.4"
  }
 },
 "nbformat": 4,
 "nbformat_minor": 2
}
