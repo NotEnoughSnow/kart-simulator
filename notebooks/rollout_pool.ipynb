{
 "cells": [
  {
   "cell_type": "code",
   "execution_count": 14,
   "metadata": {},
   "outputs": [],
   "source": [
    "from multiprocessing import Pool\n",
    "import numpy as np\n",
    "import time"
   ]
  },
  {
   "cell_type": "code",
   "execution_count": 15,
   "metadata": {},
   "outputs": [],
   "source": [
    "def rollout_worker(seed):\n",
    "    # Set a different random seed for each process to avoid identical rollouts\n",
    "    np.random.seed(seed)\n",
    "    \n",
    "    a = [0, 1, 2, 3, 4, 5]\n",
    "\n",
    "    b = [0, 0, 0, 0, 0, 0]\n",
    "\n",
    "    c = [1, 1, 1, 1, 1, 1]\n",
    "\n",
    "    \n",
    "    time.sleep(1)\n",
    "\n",
    "    return a, b, c"
   ]
  },
  {
   "cell_type": "code",
   "execution_count": 16,
   "metadata": {},
   "outputs": [],
   "source": [
    "def parallel_rollout(num_rollouts):\n",
    "    with Pool(processes=num_rollouts) as pool:\n",
    "        # Generate unique seeds for each rollout to avoid identical results\n",
    "        seeds = [np.random.randint(0, 1e6) for _ in range(num_rollouts)]\n",
    "        results = pool.map(rollout_worker, seeds)\n",
    "\n",
    "    # Unpack results\n",
    "    a, b, c = zip(*results)\n",
    "    \n",
    "    # Concatenate the results from each worker\n",
    "    return (\n",
    "        np.concatenate(a),\n",
    "        np.concatenate(b),\n",
    "        np.concatenate(c),\n",
    "    )"
   ]
  },
  {
   "cell_type": "code",
   "execution_count": 17,
   "metadata": {},
   "outputs": [],
   "source": [
    "def rollout():\n",
    "    a = [0, 1, 2, 3, 4, 5]\n",
    "\n",
    "    b = [0, 0, 0, 0, 0, 0]\n",
    "\n",
    "    c = [1, 1, 1, 1, 1, 1]\n",
    "\n",
    "    \n",
    "    time.sleep(1)\n",
    "\n",
    "    return a, b, c"
   ]
  },
  {
   "cell_type": "code",
   "execution_count": 18,
   "metadata": {},
   "outputs": [
    {
     "data": {
      "text/plain": [
       "([0, 1, 2, 3, 4, 5], [0, 0, 0, 0, 0, 0], [1, 1, 1, 1, 1, 1])"
      ]
     },
     "execution_count": 18,
     "metadata": {},
     "output_type": "execute_result"
    }
   ],
   "source": [
    "rollout()"
   ]
  },
  {
   "cell_type": "code",
   "execution_count": 19,
   "metadata": {},
   "outputs": [],
   "source": [
    "for i in range(5):\n",
    "    rollout()"
   ]
  },
  {
   "cell_type": "code",
   "execution_count": null,
   "metadata": {},
   "outputs": [],
   "source": [
    "for i in range(5):\n",
    "    parallel_rollout(4)"
   ]
  }
 ],
 "metadata": {
  "kernelspec": {
   "display_name": "venv",
   "language": "python",
   "name": "python3"
  },
  "language_info": {
   "codemirror_mode": {
    "name": "ipython",
    "version": 3
   },
   "file_extension": ".py",
   "mimetype": "text/x-python",
   "name": "python",
   "nbconvert_exporter": "python",
   "pygments_lexer": "ipython3",
   "version": "3.11.4"
  }
 },
 "nbformat": 4,
 "nbformat_minor": 2
}
