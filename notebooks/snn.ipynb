{
 "cells": [
  {
   "cell_type": "code",
   "execution_count": 2,
   "metadata": {},
   "outputs": [],
   "source": [
    "import torch\n",
    "import snntorch"
   ]
  },
  {
   "cell_type": "code",
   "execution_count": 52,
   "metadata": {},
   "outputs": [
    {
     "name": "stdout",
     "output_type": "stream",
     "text": [
      "torch.Size([1, 8, 5])\n"
     ]
    }
   ],
   "source": [
    "\n",
    "output_spikes = torch.tensor([[\n",
    "    [0.0, 0.0, 1.0, 0.0, 0.0],\n",
    "    [1.0, 0.0, 0.0, 0.0, 0.0],\n",
    "    [0.0, 1.0, 0.0, 0.0, 0.0],\n",
    "    [0.0, 0.0, 0.0, 0.0, 0.0],\n",
    "    [0.0, 0.0, 0.0, 0.0, 1.0],\n",
    "    [0.0, 0.0, 0.0, 0.0, 1.0],\n",
    "    [1.0, 0.0, 0.0, 0.0, 0.0],\n",
    "    [0.0, 0.0, 0.0, 0.0, 0.0],\n",
    "]])\n",
    "\n",
    "print(output_spikes.shape)"
   ]
  },
  {
   "cell_type": "code",
   "execution_count": 22,
   "metadata": {},
   "outputs": [],
   "source": [
    "def spike_counting_decoding(spikes):\n",
    "    spike_counts = torch.sum(spikes, dim=1)\n",
    "    action = torch.zeros(spikes.size(0))\n",
    "    max_spike_count = torch.max(spike_counts)\n",
    "    candidates = torch.where(spike_counts == max_spike_count)[0]\n",
    "    if len(candidates) > 1:\n",
    "        action[torch.multinomial(candidates.float(), 1)] = 1\n",
    "    else:\n",
    "        action[candidates] = 1\n",
    "    return action"
   ]
  },
  {
   "cell_type": "code",
   "execution_count": 45,
   "metadata": {},
   "outputs": [],
   "source": [
    "def decode_time_to_first_spike(spike_trains):\n",
    "    \n",
    "    decoded_values = torch.full((spike_trains.size(0),), spike_trains.shape[0] + 1)\n",
    "    print(decoded_values)\n",
    "\n",
    "    for i, train in enumerate(spike_trains):\n",
    "\n",
    "        first_spike_time = torch.argmax(train) \n",
    "\n",
    "        if train[first_spike_time] == 1:\n",
    "            decoded_values[i] = first_spike_time.float() + 1\n",
    "\n",
    "    return decoded_values"
   ]
  },
  {
   "cell_type": "code",
   "execution_count": 74,
   "metadata": {},
   "outputs": [],
   "source": [
    "def decode_first_spike(spike_trains):\n",
    "    decoded_vector = [spike_trains.size(0)+1] * spike_trains.size(1)\n",
    "    \n",
    "    for neuron_idx in range(spike_trains.size(1)):\n",
    "        first_spike = (spike_trains[:, neuron_idx] == 1).nonzero(as_tuple=True)[0]\n",
    "        if first_spike.nelement() != 0:\n",
    "            decoded_vector[neuron_idx] = first_spike[0].item() + 1\n",
    "    \n",
    "    return torch.FloatTensor(decoded_vector)"
   ]
  },
  {
   "cell_type": "code",
   "execution_count": 75,
   "metadata": {},
   "outputs": [
    {
     "name": "stdout",
     "output_type": "stream",
     "text": [
      "tensor([1., 1., 1., 2., 1.])\n"
     ]
    }
   ],
   "source": [
    "decoded_trains = decode_first_spike(output_spikes)\n",
    "\n",
    "print(decoded_trains)"
   ]
  },
  {
   "cell_type": "code",
   "execution_count": 41,
   "metadata": {},
   "outputs": [
    {
     "name": "stdout",
     "output_type": "stream",
     "text": [
      "tensor([9, 9, 9, 9, 9, 9, 9, 9])\n",
      "tensor([3, 1, 2, 9, 5, 5, 1, 9])\n"
     ]
    }
   ],
   "source": [
    "# Decode the output spikes\n",
    "decoded_output = decode_time_to_first_spike(output_spikes)\n",
    "print(decoded_output)"
   ]
  },
  {
   "cell_type": "code",
   "execution_count": 43,
   "metadata": {},
   "outputs": [
    {
     "name": "stdout",
     "output_type": "stream",
     "text": [
      "tensor([2.4173e-01, 8.8927e-02, 6.5709e-01, 2.2043e-04, 1.2035e-02])\n"
     ]
    }
   ],
   "source": [
    "\n",
    "p_actions = torch.nn.functional.softmax(-decoded_trains, dim=0)\n",
    "print(p_actions)"
   ]
  }
 ],
 "metadata": {
  "kernelspec": {
   "display_name": "venv",
   "language": "python",
   "name": "python3"
  },
  "language_info": {
   "codemirror_mode": {
    "name": "ipython",
    "version": 3
   },
   "file_extension": ".py",
   "mimetype": "text/x-python",
   "name": "python",
   "nbconvert_exporter": "python",
   "pygments_lexer": "ipython3",
   "version": "3.11.4"
  }
 },
 "nbformat": 4,
 "nbformat_minor": 2
}
