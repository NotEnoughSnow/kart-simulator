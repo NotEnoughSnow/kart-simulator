{
 "cells": [
  {
   "cell_type": "code",
   "execution_count": 74,
   "metadata": {},
   "outputs": [],
   "source": [
    "import torch\n",
    "import snntorch\n",
    "from torch import nn\n",
    "import torch.nn.functional as F\n",
    "import numpy as np\n",
    "\n",
    "import gym\n",
    "import numpy as np\n",
    "import torch\n",
    "from torch import nn\n",
    "from torch.distributions import MultivariateNormal, Categorical\n",
    "from torch.optim.adam import Adam\n"
   ]
  },
  {
   "cell_type": "markdown",
   "metadata": {},
   "source": [
    "### Network definition"
   ]
  },
  {
   "cell_type": "code",
   "execution_count": 75,
   "metadata": {},
   "outputs": [],
   "source": [
    "class FFNetwork(nn.Module):\n",
    "    \"\"\"\n",
    "        A standard in_dim-64-64-out_dim Feed Forward Neural Network.\n",
    "    \"\"\"\n",
    "\n",
    "    def __init__(self, in_dim, out_dim):\n",
    "        \"\"\"\n",
    "            Initialize the network and set up the layers.\n",
    "\n",
    "            Parameters:\n",
    "                in_dim - input dimensions as an int\n",
    "                out_dim - output dimensions as an int\n",
    "\n",
    "                Return:\n",
    "                None\n",
    "        \"\"\"\n",
    "        super(FFNetwork, self).__init__()\n",
    "\n",
    "        self.layer1 = nn.Linear(in_dim, 128)\n",
    "        self.layer2 = nn.Linear(128, 128)\n",
    "        self.layer3 = nn.Linear(128, out_dim)\n",
    "\n",
    "    def forward(self, obs):\n",
    "        \"\"\"\n",
    "            Runs a forward pass on the neural network.\n",
    "\n",
    "            Parameters:\n",
    "                obs - observation to pass as input\n",
    "\n",
    "            Return:\n",
    "                output - the output of our forward pass\n",
    "        \"\"\"\n",
    "\n",
    "        # Convert observation to tensor if it's a numpy array\n",
    "        if isinstance(obs, np.ndarray):\n",
    "            obs = torch.tensor(obs, dtype=torch.float)\n",
    "\n",
    "\n",
    "        activation1 = torch.relu(self.layer1(obs))\n",
    "        activation2 = torch.relu(self.layer2(activation1))\n",
    "        output = self.layer3(activation2)\n",
    "\n",
    "        return output"
   ]
  },
  {
   "cell_type": "markdown",
   "metadata": {},
   "source": [
    "### Simulation set up\n"
   ]
  },
  {
   "cell_type": "code",
   "execution_count": 76,
   "metadata": {},
   "outputs": [],
   "source": [
    "obs_dim = 8\n",
    "act_dim = 5"
   ]
  },
  {
   "cell_type": "markdown",
   "metadata": {},
   "source": [
    "### Hyper-parameters"
   ]
  },
  {
   "cell_type": "code",
   "execution_count": 77,
   "metadata": {},
   "outputs": [],
   "source": [
    "timesteps_per_batch = 4800  # Number of timesteps to run per batch\n",
    "max_timesteps_per_episode = 1600  # Max number of timesteps per episode\n",
    "n_updates_per_iteration = 5  # Number of times to update actor/critic per iteration\n",
    "lr = 0.005  # Learning rate of actor optimizer\n",
    "gamma = 0.95  # Discount factor to be applied when calculating Rewards-To-Go\n",
    "clip = 0.2  # Recommended 0.2, helps define the threshold to clip the ratio during SGA\n",
    "\n",
    "# Miscellaneous parameters\n",
    "render = True  # If we should render during rollout\n",
    "render_every_i = 10  # Only render every n iterations\n",
    "save_freq = 10  # How often we save in number of iterations\n",
    "seed = None  # Sets the seed of our program, used for reproducibility of results\n",
    "gae_lambda = 0.95"
   ]
  },
  {
   "cell_type": "markdown",
   "metadata": {},
   "source": [
    "### Initialization\n",
    "#### actor and critic networks\n",
    "#### optimizers\n",
    "#### covariance matrix"
   ]
  },
  {
   "cell_type": "code",
   "execution_count": 78,
   "metadata": {},
   "outputs": [],
   "source": [
    "# create an instance for the actor network\n",
    "actor = FFNetwork(obs_dim, act_dim)  # ALG STEP 1\n",
    "\n",
    "# create an instance for the critic network\n",
    "critic = FFNetwork(obs_dim, 1)\n",
    "\n",
    "# Initialize optimizers for actor and critic\n",
    "actor_optim = Adam(actor.parameters(), lr=lr)\n",
    "critic_optim = Adam(critic.parameters(), lr=lr)\n",
    "\n",
    "cov_var = torch.full(size=(act_dim,), fill_value=0.5)\n",
    "cov_mat = torch.diag(cov_var)"
   ]
  },
  {
   "cell_type": "markdown",
   "metadata": {},
   "source": [
    "### Methods\n",
    "#### rewards to go calculation\n",
    "#### evaluation\n"
   ]
  },
  {
   "cell_type": "code",
   "execution_count": 79,
   "metadata": {},
   "outputs": [],
   "source": [
    "def calculate_gae(rewards, values, dones):\n",
    "    batch_advantages = []\n",
    "    for ep_rews, ep_vals, ep_dones in zip(rewards, values, dones):\n",
    "        advantages = []\n",
    "        last_advantage = 0\n",
    "\n",
    "        for t in reversed(range(len(ep_rews))):\n",
    "            if t + 1 < len(ep_rews):\n",
    "                delta = ep_rews[t] + gamma * ep_vals[t + 1] * (1 - ep_dones[t + 1]) - ep_vals[t]\n",
    "            else:\n",
    "                delta = ep_rews[t] - ep_vals[t]\n",
    "\n",
    "            advantage = delta + gamma * gae_lambda * (1 - ep_dones[t]) * last_advantage\n",
    "            last_advantage = advantage\n",
    "            advantages.insert(0, advantage)\n",
    "\n",
    "        batch_advantages.extend(advantages)\n",
    "\n",
    "    return torch.tensor(batch_advantages, dtype=torch.float)\n",
    "\n",
    "def evaluate(batch_obs, batch_acts):\n",
    "    \"\"\"\n",
    "    Estimate the values of each observation, and the log probs of\n",
    "    each action in the most recent batch with the most recent\n",
    "    iteration of the actor network. Should be called from learn.\n",
    "\n",
    "    Parameters:\n",
    "        batch_obs - the observations from the most recently collected batch as a tensor.\n",
    "                    Shape: (number of timesteps in batch, dimension of observation)\n",
    "        batch_acts - the actions from the most recently collected batch as a tensor.\n",
    "                    Shape: (number of timesteps in batch, dimension of action)\n",
    "\n",
    "    Return:\n",
    "        V - the predicted values of batch_obs\n",
    "        log_probs - the log probabilities of the actions taken in batch_acts given batch_obs\n",
    "    \"\"\"\n",
    "\n",
    "    # Query critic network for a value V for each batch_obs\n",
    "    V = critic(batch_obs).squeeze()\n",
    "\n",
    "    logits = actor(batch_obs)\n",
    "    dist = Categorical(logits=logits)\n",
    "\n",
    "    # Calculate entropy loss for regularization\n",
    "    entropy_loss = -dist.entropy().mean()\n",
    "\n",
    "    log_probs = dist.log_prob(batch_acts)\n",
    "\n",
    "    # Return the value vector V of each observation in the batch\n",
    "    # and log probabilities log_probs of each action in the batch\n",
    "    return V, log_probs, dist, entropy_loss\n",
    "\n",
    "def get_action(obs):\n",
    "    \"\"\"\n",
    "    Queries an action from the actor network, should be called from rollout.\n",
    "\n",
    "    Parameters:\n",
    "        obs - the observation at the current timestep\n",
    "\n",
    "    Return:\n",
    "        action - the action to take, as a numpy array\n",
    "        log_prob - the log probability of the selected action in the distribution\n",
    "    \"\"\"\n",
    "\n",
    "    # For discrete action spaces\n",
    "    logits = actor(obs)\n",
    "    dist = Categorical(logits=logits)\n",
    "\n",
    "    # Sample an action from the distribution\n",
    "    action = dist.sample()\n",
    "\n",
    "    # Calculate the log probability for that action\n",
    "    log_prob = dist.log_prob(action)\n",
    "\n",
    "    # Return the sampled action and the log probability of that action in our distribution\n",
    "    return action.detach().numpy(), log_prob.detach()"
   ]
  },
  {
   "cell_type": "markdown",
   "metadata": {},
   "source": [
    "### Reset, First observation"
   ]
  },
  {
   "cell_type": "code",
   "execution_count": 80,
   "metadata": {},
   "outputs": [
    {
     "name": "stdout",
     "output_type": "stream",
     "text": [
      "(8,)\n"
     ]
    }
   ],
   "source": [
    "LL_obs = np.array([1.2, 0.5, 2.0, -5, 1.0, -4.5, 0.8, 0.3])\n",
    "\n",
    "RE_obs = np.array([300.0000, 450.0000,   0.0000,   4.7124,   0.0000, 1, 1, 0])\n",
    "\n",
    "print(RE_obs.shape)"
   ]
  },
  {
   "cell_type": "markdown",
   "metadata": {},
   "source": [
    "### Get action and log prob of first observation\n",
    "This is a one iteration of get_action() method\n",
    "\n",
    "- Get network output to be used as a mean for the distribution.\n",
    "\n",
    "- Create a distribution with the mean action and std from the covariance matrix above. <br/>\n",
    "For more information on how this distribution works, check out Andrew Ng's lecture on it: <br/>\n",
    "https://www.youtube.com/watch?v=JjB58InuTqM <br/>\n",
    "\n",
    "- Sample an action from the distribution\n",
    "\n",
    "- Calculate the log probability for that action\n"
   ]
  },
  {
   "cell_type": "code",
   "execution_count": 81,
   "metadata": {},
   "outputs": [
    {
     "name": "stdout",
     "output_type": "stream",
     "text": [
      "softmax probabilities  tensor([2.0514e-12, 4.9073e-23, 1.1674e-23, 1.0000e+00, 5.3230e-24],\n",
      "       grad_fn=<SoftmaxBackward0>)\n",
      "logits  tensor([  8.2407, -16.2155, -17.6515,  35.1532, -18.4368])\n",
      "action to take  3\n",
      "log probability of the action  tensor(0.)\n"
     ]
    }
   ],
   "source": [
    "m = nn.Softmax(dim=0)\n",
    "\n",
    "\n",
    "logits = actor(RE_obs)\n",
    "dist = Categorical(logits=logits)\n",
    "\n",
    "action = dist.sample()\n",
    "\n",
    "log_prob = dist.log_prob(action)\n",
    "\n",
    "print(\"softmax probabilities \", m(logits))\n",
    "print(\"logits \", logits.detach())\n",
    "print(\"action to take \", action.detach().numpy())\n",
    "print(\"log probability of the action \",log_prob.detach())\n"
   ]
  },
  {
   "cell_type": "code",
   "execution_count": 88,
   "metadata": {},
   "outputs": [
    {
     "name": "stdout",
     "output_type": "stream",
     "text": [
      "[0. 0. 0. 1. 0.]\n"
     ]
    }
   ],
   "source": [
    "action_array = np.zeros(5)\n",
    "action_array[action] = 1\n",
    "\n",
    "print(action_array)"
   ]
  },
  {
   "cell_type": "code",
   "execution_count": 86,
   "metadata": {},
   "outputs": [
    {
     "name": "stdout",
     "output_type": "stream",
     "text": [
      "3\n",
      "tensor(0.)\n"
     ]
    }
   ],
   "source": [
    "act , log = get_action(RE_obs)\n",
    "\n",
    "print(act)\n",
    "print(log)"
   ]
  },
  {
   "cell_type": "code",
   "execution_count": 83,
   "metadata": {},
   "outputs": [
    {
     "name": "stdout",
     "output_type": "stream",
     "text": [
      "tensor([-0.0053], grad_fn=<ViewBackward0>)\n"
     ]
    }
   ],
   "source": [
    "val = critic(LL_obs)\n",
    "\n",
    "print(val)"
   ]
  },
  {
   "cell_type": "markdown",
   "metadata": {},
   "source": [
    "### Rollout\n",
    "\n",
    "- batch observations collected from simulation, first obs O_0 is from reset [0, n-1]\n",
    "- batch actions collected from querying the network given observations [1, n]\n",
    "- batch log probabilities collected from querying the network given observations [1, n]\n",
    "- batch rewards collected from simulation after taking an action. [1, n]\n",
    "- batch lenghts stores batch and episode lengths"
   ]
  },
  {
   "cell_type": "code",
   "execution_count": 85,
   "metadata": {},
   "outputs": [],
   "source": [
    "rollout_obs = torch.tensor([[300.0000, 450.0000,   0.0000,   4.7124,   0.0000, 1, 1, 0],\n",
    "        [299.9333, 450.0000,   3.9801,   4.7124,   0.0000, 1, 1, 0],\n",
    "        [299.8003, 450.0000,   7.9404,   4.7124,   0.0000, 1, 1, 0],\n",
    "        [300.0000, 450.0000,   0.0000,   4.7124,   0.0000, 1, 1, 0],\n",
    "        [299.9333, 450.0000,   3.9801,   4.7124,   0.0000, 1, 1, 0],\n",
    "        [299.8003, 450.0000,   7.9404,   4.7124,   0.0000, 1, 1, 0]])\n",
    "\n",
    "rollout_rews = torch.tensor([[-1.1209449646284, -1.134160306418572, -1.1539176437616128], [-1.1209449646284, -1.134160306418572, -1.1539176437616128]])\n",
    "\n",
    "obs = RE_obs\n",
    "\n",
    "for i in range(6):\n",
    "    \n",
    "        action, log_prob = get_action(obs)\n",
    "        val = critic(obs)\n",
    "\n",
    "        obs = rollout_obs[i]\n"
   ]
  },
  {
   "cell_type": "code",
   "execution_count": 21,
   "metadata": {},
   "outputs": [
    {
     "name": "stdout",
     "output_type": "stream",
     "text": [
      "torch.Size([6])\n",
      "batch acts  tensor([[-27.7970,  65.2302,  29.4832,  72.2285, -51.3564],\n",
      "        [-28.3933,  64.6171,  27.6463,  73.8009, -51.5109],\n",
      "        [-28.9280,  64.6414,  28.5367,  73.0541, -51.5062],\n",
      "        [-27.7130,  65.7168,  28.7141,  72.3472, -51.4211],\n",
      "        [-28.7506,  65.7660,  28.3840,  74.7082, -51.9623],\n",
      "        [-28.7255,  65.5319,  28.7791,  73.1720, -48.8167]])\n",
      "batch log probs  tensor([-5.1444, -6.9009, -5.5648, -3.8300, -7.4699, -7.2108])\n",
      "batch rtg  tensor([-3.2398, -2.2304, -1.1539, -3.2398, -2.2304, -1.1539])\n"
     ]
    }
   ],
   "source": [
    "# rollout\n",
    "\n",
    "# batch obs\n",
    "batch_obs = torch.tensor([[300.0000, 450.0000,   0.0000,   4.7124,   0.0000],\n",
    "        [299.9333, 450.0000,   3.9801,   4.7124,   0.0000],\n",
    "        [299.8003, 450.0000,   7.9404,   4.7124,   0.0000],\n",
    "        [300.0000, 450.0000,   0.0000,   4.7124,   0.0000],\n",
    "        [299.9333, 450.0000,   3.9801,   4.7124,   0.0000],\n",
    "        [299.8003, 450.0000,   7.9404,   4.7124,   0.0000]])\n",
    "\n",
    "batch_acts = []\n",
    "batch_log_probs = []\n",
    "\n",
    "for i in range(len(batch_obs)):\n",
    "        action, log_prob = get_action(batch_obs[i])\n",
    "        batch_acts.append(action)\n",
    "        batch_log_probs.append(log_prob)\n",
    "\n",
    "batch_rews = [[-1.1209449646284, -1.134160306418572, -1.1539176437616128], [-1.1209449646284, -1.134160306418572, -1.1539176437616128]]\n",
    "\n",
    "batch_rtgs = compute_rtgs(batch_rews)\n",
    "\n",
    "batch_lens = [3, 3]\n",
    "\n",
    "batch_acts = torch.tensor(np.array(batch_acts), dtype=torch.float)\n",
    "batch_log_probs = torch.tensor(np.array(batch_log_probs), dtype=torch.float)\n",
    "\n",
    "\n",
    "print(\"batch acts \",batch_acts)\n",
    "print(\"batch log probs \",batch_log_probs)\n",
    "print(\"batch rtg \",batch_rtgs)"
   ]
  },
  {
   "cell_type": "markdown",
   "metadata": {},
   "source": [
    "### Evaluate one iteration (for demonstration)\n",
    "- Query critic network for a value V for each batch_obs. Shape of V should be same as batch_rtgs\n",
    "- Calculate the log probabilities of batch actions using most recent actor network.\n",
    "This segment of code is similar to that in get_action()"
   ]
  },
  {
   "cell_type": "code",
   "execution_count": 25,
   "metadata": {},
   "outputs": [
    {
     "name": "stdout",
     "output_type": "stream",
     "text": [
      "torch.Size([6, 5])\n",
      "tensor([-14.2175, -14.3675, -14.5060, -14.2175, -14.3675, -14.5060])\n",
      "tensor([-5.1444, -6.9009, -5.5648, -3.8300, -7.4698, -7.2108])\n"
     ]
    }
   ],
   "source": [
    "V = critic(batch_obs).squeeze()\n",
    "\n",
    "mean = actor(batch_obs)\n",
    "dist = MultivariateNormal(mean, cov_mat)\n",
    "log_probs = dist.log_prob(batch_acts)\n",
    "\n",
    "print(mean.shape)\n",
    "print(V.detach())\n",
    "print(log_probs.detach())"
   ]
  },
  {
   "cell_type": "code",
   "execution_count": 11,
   "metadata": {},
   "outputs": [
    {
     "name": "stdout",
     "output_type": "stream",
     "text": [
      "tensor([-16.2353, -16.3779, -16.5182, -16.2353, -16.3779, -16.5182],\n",
      "       grad_fn=<SqueezeBackward0>)\n",
      "tensor([12.9955, 14.1475, 15.3643, 12.9955, 14.1475, 15.3643])\n"
     ]
    }
   ],
   "source": [
    "# Calculate advantage at k-th iteration\n",
    "V, _ = evaluate(batch_obs, batch_acts)\n",
    "A_k = batch_rtgs - V.detach()\n",
    "\n",
    "print(V)\n",
    "print(A_k)"
   ]
  },
  {
   "cell_type": "code",
   "execution_count": 12,
   "metadata": {},
   "outputs": [
    {
     "name": "stdout",
     "output_type": "stream",
     "text": [
      "tensor([-1.1077, -0.0204,  1.1281, -1.1077, -0.0204,  1.1281])\n"
     ]
    }
   ],
   "source": [
    "# normalizing the advantage\n",
    "A_k = (A_k - A_k.mean()) / (A_k.std() + 1e-10)\n",
    "\n",
    "print(A_k)"
   ]
  },
  {
   "cell_type": "markdown",
   "metadata": {},
   "source": [
    "### Update the network through a number of iterations\n",
    "\n",
    "- Calculate V_phi and pi_theta(a_t | s_t)\n",
    "- Calculate the ratio pi_theta(a_t | s_t) / pi_theta_k(a_t | s_t) <br/>\n",
    "NOTE: we just subtract the logs, which is the same as<br/>\n",
    "dividing the values and then canceling the log with e^log.<br/>\n",
    "For why we use log probabilities instead of actual probabilities,<br/>\n",
    "here's a great explanation:<br/>\n",
    "https://cs.stackexchange.com/questions/70518/why-do-we-use-the-log-in-gradient-based-reinforcement-algorithms<br/>\n",
    "TL;DR makes gradient ascent easier behind the scenes.<br/>\n",
    "- Calculate surrogate losses.\n",
    "- Calculate actor and critic losses. <br/>\n",
    "NOTE: we take the negative min of the surrogate losses because we're trying to maximize <br/>\n",
    "the performance function, but Adam minimizes the loss. So minimizing the negative <br/>\n",
    "performance function maximizes it. <br/>\n",
    "- Calculate gradients and perform backward propagation for actor and critic network\n",
    "\n"
   ]
  },
  {
   "cell_type": "code",
   "execution_count": 30,
   "metadata": {},
   "outputs": [
    {
     "name": "stdout",
     "output_type": "stream",
     "text": [
      "## update start ##\n",
      "tensor([-5.1444, -6.9009, -5.5648, -3.8300, -7.4699, -7.2108])\n",
      "tensor([-7.6773, -7.7762, -7.8732, -7.6773, -7.7762, -7.8732],\n",
      "       grad_fn=<SqueezeBackward0>)\n",
      "tensor([-24573.3047, -24026.8809, -24084.8027, -24505.0898, -23910.9277,\n",
      "        -23803.5879], grad_fn=<SubBackward0>)\n",
      "* V \n",
      " tensor([-7.6773, -7.7762, -7.8732, -7.6773, -7.7762, -7.8732])\n",
      "* curr_log_probs \n",
      " tensor([-24573.3047, -24026.8809, -24084.8027, -24505.0898, -23910.9277,\n",
      "        -23803.5879])\n",
      "* ratios \n",
      " tensor([0., 0., 0., 0., 0., 0.])\n",
      "* surr1 \n",
      " tensor([-0., -0., 0., -0., -0., 0.])\n",
      "* surr2 \n",
      " tensor([-0.8862, -0.0163,  0.9025, -0.8862, -0.0163,  0.9025])\n",
      "tensor(0.3008, grad_fn=<MeanBackward0>)\n",
      "tensor(31.8651, grad_fn=<MseLossBackward0>)\n"
     ]
    }
   ],
   "source": [
    "num_updates_per_iteration = 1\n",
    "\n",
    "actor_loss_arr = []\n",
    "critic_loss_arr = []\n",
    "\n",
    "\n",
    "for _ in range(num_updates_per_iteration):\n",
    "\n",
    "    print(\"## update start ##\")\n",
    "\n",
    "    V, curr_log_probs = evaluate(batch_obs, batch_acts)\n",
    "\n",
    "    ratios = torch.exp(curr_log_probs - batch_log_probs)\n",
    "\n",
    "    surr1 = ratios * A_k\n",
    "    surr2 = torch.clamp(ratios, 1 - clip, 1 + clip) * A_k\n",
    "\n",
    "    actor_loss = (-torch.min(surr1, surr2)).mean()\n",
    "    critic_loss = nn.MSELoss()(V, batch_rtgs)\n",
    "\n",
    "    actor_loss_arr.append(actor_loss)\n",
    "    critic_loss_arr.append(critic_loss)\n",
    "\n",
    "    actor_optim.zero_grad()\n",
    "    actor_loss.backward(retain_graph=True)\n",
    "    actor_optim.step()\n",
    "\n",
    "    critic_optim.zero_grad()\n",
    "    critic_loss.backward()\n",
    "    critic_optim.step()\n",
    "\n",
    "\n",
    "    print(\"* V \\n\",V.detach())\n",
    "    print(\"* curr_log_probs \\n\",curr_log_probs.detach())\n",
    "    print(\"* ratios \\n\",ratios.detach())\n",
    "    print(\"* surr1 \\n\",surr1.detach())\n",
    "    print(\"* surr2 \\n\",surr2.detach())\n",
    "\n",
    "print(actor_loss)\n",
    "print(critic_loss)"
   ]
  }
 ],
 "metadata": {
  "kernelspec": {
   "display_name": "venv",
   "language": "python",
   "name": "python3"
  },
  "language_info": {
   "codemirror_mode": {
    "name": "ipython",
    "version": 3
   },
   "file_extension": ".py",
   "mimetype": "text/x-python",
   "name": "python",
   "nbconvert_exporter": "python",
   "pygments_lexer": "ipython3",
   "version": "3.11.4"
  }
 },
 "nbformat": 4,
 "nbformat_minor": 2
}
